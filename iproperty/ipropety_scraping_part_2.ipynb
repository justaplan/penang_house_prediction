{
 "cells": [
  {
   "cell_type": "code",
   "execution_count": 2,
   "id": "cb0b66c2-e9a8-4395-863d-b51b0d6d2466",
   "metadata": {},
   "outputs": [],
   "source": [
    "import cloudscraper\n",
    "import time\n",
    "from bs4 import BeautifulSoup\n",
    "import pandas as pd\n",
    "\n",
    "pd.set_option('max_colwidth', 400)"
   ]
  },
  {
   "cell_type": "code",
   "execution_count": 3,
   "id": "b41b0e05-a529-425a-8478-fa5b52ae4722",
   "metadata": {},
   "outputs": [],
   "source": [
    "df = pd.read_csv(\"property_data.csv\", index_col=False)"
   ]
  },
  {
   "cell_type": "markdown",
   "id": "ba36b058-eac0-4ce8-966a-687cd3dd2225",
   "metadata": {},
   "source": [
    "### 1.0 Remove duplicated data during first scraping"
   ]
  },
  {
   "cell_type": "code",
   "execution_count": 4,
   "id": "e3239ad5-d682-44d0-8300-d3fc85e4e0ba",
   "metadata": {},
   "outputs": [
    {
     "data": {
      "text/html": [
       "<div>\n",
       "<style scoped>\n",
       "    .dataframe tbody tr th:only-of-type {\n",
       "        vertical-align: middle;\n",
       "    }\n",
       "\n",
       "    .dataframe tbody tr th {\n",
       "        vertical-align: top;\n",
       "    }\n",
       "\n",
       "    .dataframe thead th {\n",
       "        text-align: right;\n",
       "    }\n",
       "</style>\n",
       "<table border=\"1\" class=\"dataframe\">\n",
       "  <thead>\n",
       "    <tr style=\"text-align: right;\">\n",
       "      <th></th>\n",
       "      <th>property_name</th>\n",
       "      <th>property_listing</th>\n",
       "      <th>property_type</th>\n",
       "    </tr>\n",
       "  </thead>\n",
       "  <tbody>\n",
       "    <tr>\n",
       "      <th>0</th>\n",
       "      <td>For Sale - Tropicana Bay Residences</td>\n",
       "      <td>https://www.propertyguru.com.my/property-listing/tropicana-bay-residences-for-sale-by-may-ng-35025945</td>\n",
       "      <td>condominium</td>\n",
       "    </tr>\n",
       "    <tr>\n",
       "      <th>1</th>\n",
       "      <td>For Sale - Tropicana Bay Residences</td>\n",
       "      <td>https://www.propertyguru.com.my/property-listing/tropicana-bay-residences-for-sale-by-simon-saw-33616932</td>\n",
       "      <td>condominium</td>\n",
       "    </tr>\n",
       "    <tr>\n",
       "      <th>2</th>\n",
       "      <td>For Sale - Tropicana Bay Residences</td>\n",
       "      <td>https://www.propertyguru.com.my/property-listing/tropicana-bay-residences-for-sale-by-simon-saw-34630572</td>\n",
       "      <td>condominium</td>\n",
       "    </tr>\n",
       "    <tr>\n",
       "      <th>3</th>\n",
       "      <td>For Sale - Tropicana Bay Residences</td>\n",
       "      <td>https://www.propertyguru.com.my/property-listing/tropicana-bay-residences-for-sale-by-simon-saw-35076662</td>\n",
       "      <td>condominium</td>\n",
       "    </tr>\n",
       "    <tr>\n",
       "      <th>4</th>\n",
       "      <td>For Sale - Middleton @ Minden Heights</td>\n",
       "      <td>https://www.propertyguru.com.my/property-listing/middleton-minden-heights-for-sale-by-jonathan-lee-35397439</td>\n",
       "      <td>condominium</td>\n",
       "    </tr>\n",
       "  </tbody>\n",
       "</table>\n",
       "</div>"
      ],
      "text/plain": [
       "                           property_name  \\\n",
       "0    For Sale - Tropicana Bay Residences   \n",
       "1    For Sale - Tropicana Bay Residences   \n",
       "2    For Sale - Tropicana Bay Residences   \n",
       "3    For Sale - Tropicana Bay Residences   \n",
       "4  For Sale - Middleton @ Minden Heights   \n",
       "\n",
       "                                                                                              property_listing  \\\n",
       "0        https://www.propertyguru.com.my/property-listing/tropicana-bay-residences-for-sale-by-may-ng-35025945   \n",
       "1     https://www.propertyguru.com.my/property-listing/tropicana-bay-residences-for-sale-by-simon-saw-33616932   \n",
       "2     https://www.propertyguru.com.my/property-listing/tropicana-bay-residences-for-sale-by-simon-saw-34630572   \n",
       "3     https://www.propertyguru.com.my/property-listing/tropicana-bay-residences-for-sale-by-simon-saw-35076662   \n",
       "4  https://www.propertyguru.com.my/property-listing/middleton-minden-heights-for-sale-by-jonathan-lee-35397439   \n",
       "\n",
       "  property_type  \n",
       "0   condominium  \n",
       "1   condominium  \n",
       "2   condominium  \n",
       "3   condominium  \n",
       "4   condominium  "
      ]
     },
     "execution_count": 4,
     "metadata": {},
     "output_type": "execute_result"
    }
   ],
   "source": [
    "df.head()"
   ]
  },
  {
   "cell_type": "code",
   "execution_count": 5,
   "id": "6c71b080-f662-4ff7-8044-837850b099c5",
   "metadata": {},
   "outputs": [
    {
     "data": {
      "text/plain": [
       "(15368, 3)"
      ]
     },
     "execution_count": 5,
     "metadata": {},
     "output_type": "execute_result"
    }
   ],
   "source": [
    "df.shape"
   ]
  },
  {
   "cell_type": "code",
   "execution_count": 6,
   "id": "d548b1d1-bd37-4848-8ff5-c48cfd683285",
   "metadata": {},
   "outputs": [],
   "source": [
    "df = df.drop_duplicates()"
   ]
  },
  {
   "cell_type": "code",
   "execution_count": null,
   "id": "0ee6cfe3-3baf-4d3c-9fef-3c3073700607",
   "metadata": {},
   "outputs": [
    {
     "data": {
      "text/plain": [
       "(7920, 3)"
      ]
     },
     "execution_count": 7,
     "metadata": {},
     "output_type": "execute_result"
    }
   ],
   "source": [
    "df.shape"
   ]
  },
  {
   "cell_type": "code",
   "execution_count": 135,
   "id": "6d43c539-cf14-4dce-b70a-76738a17e264",
   "metadata": {},
   "outputs": [
    {
     "data": {
      "text/html": [
       "<div>\n",
       "<style scoped>\n",
       "    .dataframe tbody tr th:only-of-type {\n",
       "        vertical-align: middle;\n",
       "    }\n",
       "\n",
       "    .dataframe tbody tr th {\n",
       "        vertical-align: top;\n",
       "    }\n",
       "\n",
       "    .dataframe thead th {\n",
       "        text-align: right;\n",
       "    }\n",
       "</style>\n",
       "<table border=\"1\" class=\"dataframe\">\n",
       "  <thead>\n",
       "    <tr style=\"text-align: right;\">\n",
       "      <th></th>\n",
       "      <th>property_name</th>\n",
       "      <th>property_listing</th>\n",
       "      <th>property_type</th>\n",
       "    </tr>\n",
       "  </thead>\n",
       "  <tbody>\n",
       "    <tr>\n",
       "      <th>0</th>\n",
       "      <td>For Sale - Tropicana Bay Residences</td>\n",
       "      <td>https://www.propertyguru.com.my/property-listing/tropicana-bay-residences-for-sale-by-may-ng-35025945</td>\n",
       "      <td>condominium</td>\n",
       "    </tr>\n",
       "    <tr>\n",
       "      <th>1</th>\n",
       "      <td>For Sale - Tropicana Bay Residences</td>\n",
       "      <td>https://www.propertyguru.com.my/property-listing/tropicana-bay-residences-for-sale-by-simon-saw-33616932</td>\n",
       "      <td>condominium</td>\n",
       "    </tr>\n",
       "    <tr>\n",
       "      <th>2</th>\n",
       "      <td>For Sale - Tropicana Bay Residences</td>\n",
       "      <td>https://www.propertyguru.com.my/property-listing/tropicana-bay-residences-for-sale-by-simon-saw-34630572</td>\n",
       "      <td>condominium</td>\n",
       "    </tr>\n",
       "    <tr>\n",
       "      <th>3</th>\n",
       "      <td>For Sale - Tropicana Bay Residences</td>\n",
       "      <td>https://www.propertyguru.com.my/property-listing/tropicana-bay-residences-for-sale-by-simon-saw-35076662</td>\n",
       "      <td>condominium</td>\n",
       "    </tr>\n",
       "    <tr>\n",
       "      <th>4</th>\n",
       "      <td>For Sale - Middleton @ Minden Heights</td>\n",
       "      <td>https://www.propertyguru.com.my/property-listing/middleton-minden-heights-for-sale-by-jonathan-lee-35397439</td>\n",
       "      <td>condominium</td>\n",
       "    </tr>\n",
       "  </tbody>\n",
       "</table>\n",
       "</div>"
      ],
      "text/plain": [
       "                           property_name  \\\n",
       "0    For Sale - Tropicana Bay Residences   \n",
       "1    For Sale - Tropicana Bay Residences   \n",
       "2    For Sale - Tropicana Bay Residences   \n",
       "3    For Sale - Tropicana Bay Residences   \n",
       "4  For Sale - Middleton @ Minden Heights   \n",
       "\n",
       "                                                                                              property_listing  \\\n",
       "0        https://www.propertyguru.com.my/property-listing/tropicana-bay-residences-for-sale-by-may-ng-35025945   \n",
       "1     https://www.propertyguru.com.my/property-listing/tropicana-bay-residences-for-sale-by-simon-saw-33616932   \n",
       "2     https://www.propertyguru.com.my/property-listing/tropicana-bay-residences-for-sale-by-simon-saw-34630572   \n",
       "3     https://www.propertyguru.com.my/property-listing/tropicana-bay-residences-for-sale-by-simon-saw-35076662   \n",
       "4  https://www.propertyguru.com.my/property-listing/middleton-minden-heights-for-sale-by-jonathan-lee-35397439   \n",
       "\n",
       "  property_type  \n",
       "0   condominium  \n",
       "1   condominium  \n",
       "2   condominium  \n",
       "3   condominium  \n",
       "4   condominium  "
      ]
     },
     "execution_count": 135,
     "metadata": {},
     "output_type": "execute_result"
    }
   ],
   "source": [
    "df.head()"
   ]
  },
  {
   "cell_type": "code",
   "execution_count": 117,
   "id": "fb52191d-9965-4335-b906-f67122db51ba",
   "metadata": {},
   "outputs": [],
   "source": [
    "df = df[~df[\"property_name\"].str.contains(\"Versa\")].reset_index(drop=True)"
   ]
  },
  {
   "cell_type": "code",
   "execution_count": 121,
   "id": "f97d112c-79c2-43aa-ac61-08cd4c18cb15",
   "metadata": {},
   "outputs": [],
   "source": [
    "df = df[~df[\"property_name\"].str.contains(\"Rubica\")].reset_index(drop=True)"
   ]
  },
  {
   "cell_type": "code",
   "execution_count": 122,
   "id": "1c0d8cad-6b35-42fc-95b9-307fa2b50ed6",
   "metadata": {},
   "outputs": [
    {
     "data": {
      "text/html": [
       "<div>\n",
       "<style scoped>\n",
       "    .dataframe tbody tr th:only-of-type {\n",
       "        vertical-align: middle;\n",
       "    }\n",
       "\n",
       "    .dataframe tbody tr th {\n",
       "        vertical-align: top;\n",
       "    }\n",
       "\n",
       "    .dataframe thead th {\n",
       "        text-align: right;\n",
       "    }\n",
       "</style>\n",
       "<table border=\"1\" class=\"dataframe\">\n",
       "  <thead>\n",
       "    <tr style=\"text-align: right;\">\n",
       "      <th></th>\n",
       "      <th>property_name</th>\n",
       "      <th>property_listing</th>\n",
       "      <th>property_type</th>\n",
       "    </tr>\n",
       "  </thead>\n",
       "  <tbody>\n",
       "  </tbody>\n",
       "</table>\n",
       "</div>"
      ],
      "text/plain": [
       "Empty DataFrame\n",
       "Columns: [property_name, property_listing, property_type]\n",
       "Index: []"
      ]
     },
     "execution_count": 122,
     "metadata": {},
     "output_type": "execute_result"
    }
   ],
   "source": [
    "df[df[\"property_name\"].str.contains(\"Rubica\")]"
   ]
  },
  {
   "cell_type": "markdown",
   "id": "4dc608ad-f28c-45b0-a7a4-829b19b40bd4",
   "metadata": {},
   "source": [
    "### 2.0 Scraping with more info"
   ]
  },
  {
   "cell_type": "code",
   "execution_count": 9,
   "id": "8c2365d9-1048-4dde-95c0-582202592597",
   "metadata": {},
   "outputs": [],
   "source": [
    "property_type = []\n",
    "floor_size = []\n",
    "developer = []\n",
    "land_Size = []\n",
    "psf = []\n",
    "furnishing = []\n",
    "floor_level = []\n",
    "tenure = []\n",
    "built_year = []\n",
    "listing_id = []\n",
    "listing_time = []\n",
    "\n",
    "bedroom = []\n",
    "bathroom = []\n",
    "location = []\n",
    "url_list = []"
   ]
  },
  {
   "cell_type": "code",
   "execution_count": 8,
   "id": "bd974acd-d4f6-4173-bd01-4a30a2e691a3",
   "metadata": {},
   "outputs": [],
   "source": [
    "def BSPrep(URL):\n",
    "    exitcode = 1\n",
    "    while exitcode == 1:\n",
    "        try:\n",
    "            trial = 0\n",
    "            while trial < 10:\n",
    "                scraper = cloudscraper.create_scraper()\n",
    "                print('Loading '+URL)\n",
    "                s = scraper.get(URL)\n",
    "                soup = BeautifulSoup(s.content, 'html.parser')\n",
    "                if \"captcha\" in soup.text:\n",
    "                    trial += 1\n",
    "                    print('Retrying '+' ('+str(trial)+'/10) ...')\n",
    "                    time.sleep(0.1)\n",
    "                    continue\n",
    "                elif \"No Results\" in soup.text:\n",
    "                    print('Invalid URL, skipping '+URL)\n",
    "                    trial = 99\n",
    "                else:\n",
    "                    trial = 99\n",
    "            if trial == 10:\n",
    "                print('Trial exceeded, skipping '+URL)\n",
    "            exitcode = 0\n",
    "            return soup\n",
    "        except:\n",
    "                print('Connection reset, retrying in 1 mins...', flush=True)\n",
    "                time.sleep(60)\n",
    "                \n",
    "def get_property_details(soup,url):\n",
    "    info_list = []\n",
    "    if len(soup.find_all( \"td\", {\"class\":\"value-block\"})) < 11:\n",
    "        pass\n",
    "    else:\n",
    "        for row in soup.find_all( \"td\", {\"class\":\"value-block\"}):\n",
    "            info_list.append(row.text)\n",
    "\n",
    "        for i in soup.find_all( \"span\", {\"class\":\"element-label\"})[2:4]:\n",
    "            text = i.text.replace(\" \", \"\")\n",
    "            text = \"\".join([s for s in text.splitlines(True) if s.strip(\"\\r\\n\")])\n",
    "            info_list.append(text)\n",
    "    \n",
    "        property_type.append(info_list[0])\n",
    "        floor_size.append(info_list[1])\n",
    "        developer.append(info_list[2])\n",
    "        land_Size.append(info_list[3])\n",
    "        psf.append(info_list[4])\n",
    "        furnishing.append(info_list[5])\n",
    "        floor_level.append(info_list[6])\n",
    "        tenure.append(info_list[7])\n",
    "        built_year.append(info_list[8])\n",
    "        listing_id.append(info_list[9])\n",
    "        listing_time.append(info_list[10])\n",
    "        bedroom.append(info_list[11])\n",
    "        bathroom.append(info_list[12])\n",
    "        location.append(soup.find( \"span\", itemprop=\"streetAddress\").text)\n",
    "        url_list.append(url)"
   ]
  },
  {
   "cell_type": "code",
   "execution_count": 13,
   "id": "c6e4a606-80dc-4c9e-9a21-e9432fc89c66",
   "metadata": {},
   "outputs": [
    {
     "name": "stdout",
     "output_type": "stream",
     "text": [
      "Loading https://www.propertyguru.com.my/property-listing/tropicana-bay-residences-for-sale-by-simon-saw-33616932\n"
     ]
    }
   ],
   "source": [
    "bs = BSPrep(\"https://www.propertyguru.com.my/property-listing/tropicana-bay-residences-for-sale-by-simon-saw-33616932\")"
   ]
  },
  {
   "cell_type": "code",
   "execution_count": 14,
   "id": "82a12424-950a-48e5-a009-a40f3309a664",
   "metadata": {},
   "outputs": [
    {
     "data": {
      "text/plain": [
       "11"
      ]
     },
     "execution_count": 14,
     "metadata": {},
     "output_type": "execute_result"
    }
   ],
   "source": [
    "len(bs.find_all( \"td\", {\"class\":\"value-block\"}))"
   ]
  },
  {
   "cell_type": "code",
   "execution_count": 18,
   "id": "6fab9513-2751-4d21-a8ec-f2fcb44a5443",
   "metadata": {},
   "outputs": [
    {
     "data": {
      "text/plain": [
       "7915"
      ]
     },
     "execution_count": 18,
     "metadata": {},
     "output_type": "execute_result"
    }
   ],
   "source": [
    "len(floor_size)"
   ]
  },
  {
   "cell_type": "code",
   "execution_count": 33,
   "id": "cfc09bca-3f31-4398-af74-6d061dd8c897",
   "metadata": {},
   "outputs": [
    {
     "data": {
      "text/plain": [
       "7915"
      ]
     },
     "execution_count": 33,
     "metadata": {},
     "output_type": "execute_result"
    }
   ],
   "source": [
    "len(url_list)"
   ]
  },
  {
   "cell_type": "code",
   "execution_count": 34,
   "id": "0d9c6fcc-856c-4039-abcb-1ce936d648f7",
   "metadata": {},
   "outputs": [],
   "source": [
    "data= {\n",
    "    \"property_type\" : property_type, \n",
    "    \"floor_size\": floor_size,\n",
    "    \"developer\": developer,\n",
    "    \"land_size\": land_Size,\n",
    "    \"psf\" : psf,\n",
    "    \"furnishing\" : furnishing,\n",
    "    \"floor_level\" : floor_level,\n",
    "    \"tenure_type\" : tenure,\n",
    "    \"built_year\" : built_year,\n",
    "    \"listing_id\" : listing_id,\n",
    "    \"listing_time\" : listing_time,\n",
    "    \"bedroom_count\" : bedroom,\n",
    "    \"bathroom_counr\" : bathroom,\n",
    "    \"location\": location,\n",
    "    \"propertyguru_url\": url_list\n",
    "    \n",
    "}\n",
    "\n",
    "new_df = pd.DataFrame(data=data)"
   ]
  },
  {
   "cell_type": "code",
   "execution_count": 36,
   "id": "27b75e28-587e-473c-bb82-96ad4d40220c",
   "metadata": {},
   "outputs": [
    {
     "data": {
      "text/plain": [
       "(7915, 15)"
      ]
     },
     "execution_count": 36,
     "metadata": {},
     "output_type": "execute_result"
    }
   ],
   "source": [
    "new_df.shape"
   ]
  },
  {
   "cell_type": "code",
   "execution_count": 37,
   "id": "e5027540-e929-44df-b67e-9bcfe8ff4152",
   "metadata": {},
   "outputs": [],
   "source": [
    "new_df.to_csv(\"property_more_info.csv\", index=False)"
   ]
  },
  {
   "cell_type": "code",
   "execution_count": null,
   "id": "25602b5e-0e22-4485-a88f-aed5a8f32f59",
   "metadata": {},
   "outputs": [],
   "source": []
  },
  {
   "cell_type": "code",
   "execution_count": null,
   "id": "e7c6d390-4aa2-4f83-be78-55c120a98b34",
   "metadata": {},
   "outputs": [],
   "source": []
  }
 ],
 "metadata": {
  "kernelspec": {
   "display_name": "Python 3 (ipykernel)",
   "language": "python",
   "name": "python3"
  },
  "language_info": {
   "codemirror_mode": {
    "name": "ipython",
    "version": 3
   },
   "file_extension": ".py",
   "mimetype": "text/x-python",
   "name": "python",
   "nbconvert_exporter": "python",
   "pygments_lexer": "ipython3",
   "version": "3.10.7"
  }
 },
 "nbformat": 4,
 "nbformat_minor": 5
}
