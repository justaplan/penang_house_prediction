{
 "cells": [
  {
   "cell_type": "code",
   "execution_count": 1,
   "id": "232fc3ec",
   "metadata": {},
   "outputs": [],
   "source": [
    "import pandas as pd\n",
    "import seaborn as sns\n",
    "import requests\n",
    "from bs4 import BeautifulSoup"
   ]
  },
  {
   "cell_type": "code",
   "execution_count": 20,
   "id": "2fd4c032",
   "metadata": {},
   "outputs": [],
   "source": [
    "url = \"https://search.mudah.my/v1/search?category=2000&from=40&include=extra_images%2Cbody&limit=1000&region=3&type=sell\"\n",
    "url2 = \"https://www.mudah.my/penang/properties-for-sale?o=250\"\n",
    "url3 = \"https://www.mudah.my/Sri+Saujana+Lebuh+Maccalum+Apartment-96811603.html\"\n",
    "url4 = \"https://search.mudah.my/v1/search?category=2000&from=40&include=extra_images%2Cbody&limit=200&region=3&type=sell\"\n",
    "\n",
    "## Use this one\n",
    "URL = \"https://search.mudah.my/v1/search?category=2000&from=1&limit=1&region=3&type=sell\"\n",
    "\n",
    "response = requests.get(URL)"
   ]
  },
  {
   "cell_type": "code",
   "execution_count": 99,
   "id": "c3b0aa19",
   "metadata": {},
   "outputs": [],
   "source": [
    "subarea_name = []\n",
    "category_name = []\n",
    "sub_category_name = []\n",
    "room_count = []\n",
    "bathroom_count = []\n",
    "parking_count = []\n",
    "size = []\n",
    "property_type = []\n",
    "price = []\n",
    "\n",
    "\n",
    "for i in range(0,9999):\n",
    "    response = requests.get(f\"https://search.mudah.my/v1/search?category=2000&from={i}&limit=1&region=3&type=sell\")\n",
    "    \n",
    "\n",
    "    try:\n",
    "        subarea_name.append(response.json()[\"data\"][0][\"attributes\"][\"subarea_name\"])\n",
    "    except:\n",
    "        subarea_name.append(\"others\")\n",
    "    \n",
    "    try:\n",
    "        category_name.append(response.json()[\"data\"][0][\"attributes\"][\"category_name\"])\n",
    "    except:\n",
    "        category_name.append(\"others\")\n",
    "        \n",
    "    try:\n",
    "        sub_category_name.append(response.json()[\"data\"][0][\"attributes\"][\"property_type_name\"])\n",
    "    except:\n",
    "        sub_category_name.append(\"others\")\n",
    "        \n",
    "    try:\n",
    "        room_count.append(response.json()[\"data\"][0][\"attributes\"][\"rooms_name\"])\n",
    "    except:\n",
    "        room_count.append(0)\n",
    "    \n",
    "    try:\n",
    "        bathroom_count.append(response.json()[\"data\"][0][\"attributes\"][\"bathroom_name\"])\n",
    "    except:\n",
    "        bathroom_count.append(0)\n",
    "    \n",
    "    try:\n",
    "        parking_count.append(response.json()[\"data\"][0][\"attributes\"][\"parking_name\"])\n",
    "    except:\n",
    "        parking_count.append(0)\n",
    "      \n",
    "    try:    \n",
    "        size.append(response.json()[\"data\"][0][\"attributes\"][\"size\"])\n",
    "    except:\n",
    "        size.append(0)\n",
    "    \n",
    "    try:    \n",
    "        property_type.append(response.json()[\"data\"][0][\"attributes\"][\"title_type_name\"])\n",
    "    except:\n",
    "        property_type.append(\"others\")\n",
    "            \n",
    "    try:    \n",
    "        price.append(response.json()[\"data\"][0][\"attributes\"][\"price\"])\n",
    "    except:\n",
    "        price.append(0)"
   ]
  },
  {
   "cell_type": "code",
   "execution_count": 100,
   "id": "bac0ac68",
   "metadata": {},
   "outputs": [],
   "source": [
    "# initialize data of lists.\n",
    "data = {\n",
    "    \"subarea_name\" : subarea_name,\n",
    "    \"category_name\" : category_name,\n",
    "    \"sub_category_name\" : sub_category_name,\n",
    "    \"room_count\" : room_count,\n",
    "    \"bathroom_count\" : bathroom_count,\n",
    "    \"parking_count\" : parking_count,\n",
    "    \"size (sqrt)\" : size,\n",
    "    \"property_type\" : property_type,\n",
    "    \"price (RM)\" : price\n",
    "}\n",
    "  \n",
    "# Create DataFrame\n",
    "df = pd.DataFrame(data)"
   ]
  },
  {
   "cell_type": "code",
   "execution_count": 101,
   "id": "28b684a2",
   "metadata": {},
   "outputs": [
    {
     "data": {
      "text/plain": [
       "(9999, 9)"
      ]
     },
     "execution_count": 101,
     "metadata": {},
     "output_type": "execute_result"
    }
   ],
   "source": [
    "df.shape"
   ]
  },
  {
   "cell_type": "code",
   "execution_count": 102,
   "id": "f73069e3",
   "metadata": {},
   "outputs": [
    {
     "data": {
      "text/html": [
       "<div>\n",
       "<style scoped>\n",
       "    .dataframe tbody tr th:only-of-type {\n",
       "        vertical-align: middle;\n",
       "    }\n",
       "\n",
       "    .dataframe tbody tr th {\n",
       "        vertical-align: top;\n",
       "    }\n",
       "\n",
       "    .dataframe thead th {\n",
       "        text-align: right;\n",
       "    }\n",
       "</style>\n",
       "<table border=\"1\" class=\"dataframe\">\n",
       "  <thead>\n",
       "    <tr style=\"text-align: right;\">\n",
       "      <th></th>\n",
       "      <th>subarea_name</th>\n",
       "      <th>category_name</th>\n",
       "      <th>sub_category_name</th>\n",
       "      <th>room_count</th>\n",
       "      <th>bathroom_count</th>\n",
       "      <th>parking_count</th>\n",
       "      <th>size (sqrt)</th>\n",
       "      <th>property_type</th>\n",
       "      <th>price (RM)</th>\n",
       "    </tr>\n",
       "  </thead>\n",
       "  <tbody>\n",
       "    <tr>\n",
       "      <th>9994</th>\n",
       "      <td>Sungai Ara</td>\n",
       "      <td>Apartment / Condominium</td>\n",
       "      <td>Apartment</td>\n",
       "      <td>3</td>\n",
       "      <td>1</td>\n",
       "      <td>1</td>\n",
       "      <td>650</td>\n",
       "      <td>Freehold</td>\n",
       "      <td>240000</td>\n",
       "    </tr>\n",
       "    <tr>\n",
       "      <th>9995</th>\n",
       "      <td>Jelutong</td>\n",
       "      <td>Apartment / Condominium</td>\n",
       "      <td>Condominium</td>\n",
       "      <td>3</td>\n",
       "      <td>2</td>\n",
       "      <td>2</td>\n",
       "      <td>950</td>\n",
       "      <td>Leasehold</td>\n",
       "      <td>550000</td>\n",
       "    </tr>\n",
       "    <tr>\n",
       "      <th>9996</th>\n",
       "      <td>Bayan Lepas</td>\n",
       "      <td>Apartment / Condominium</td>\n",
       "      <td>Condominium</td>\n",
       "      <td>4</td>\n",
       "      <td>3</td>\n",
       "      <td>3</td>\n",
       "      <td>1623</td>\n",
       "      <td>Freehold</td>\n",
       "      <td>899000</td>\n",
       "    </tr>\n",
       "    <tr>\n",
       "      <th>9997</th>\n",
       "      <td>Bukit Mertajam</td>\n",
       "      <td>Apartment / Condominium</td>\n",
       "      <td>Flat</td>\n",
       "      <td>3</td>\n",
       "      <td>2</td>\n",
       "      <td>0</td>\n",
       "      <td>645</td>\n",
       "      <td>Freehold</td>\n",
       "      <td>105000</td>\n",
       "    </tr>\n",
       "    <tr>\n",
       "      <th>9998</th>\n",
       "      <td>Kepala Batas</td>\n",
       "      <td>House</td>\n",
       "      <td>2-storey Terraced House</td>\n",
       "      <td>4</td>\n",
       "      <td>3</td>\n",
       "      <td>0</td>\n",
       "      <td>1290</td>\n",
       "      <td>Freehold</td>\n",
       "      <td>425000</td>\n",
       "    </tr>\n",
       "  </tbody>\n",
       "</table>\n",
       "</div>"
      ],
      "text/plain": [
       "        subarea_name            category_name        sub_category_name  \\\n",
       "9994      Sungai Ara  Apartment / Condominium                Apartment   \n",
       "9995        Jelutong  Apartment / Condominium              Condominium   \n",
       "9996     Bayan Lepas  Apartment / Condominium              Condominium   \n",
       "9997  Bukit Mertajam  Apartment / Condominium                     Flat   \n",
       "9998    Kepala Batas                    House  2-storey Terraced House   \n",
       "\n",
       "     room_count bathroom_count parking_count size (sqrt) property_type  \\\n",
       "9994          3              1             1         650      Freehold   \n",
       "9995          3              2             2         950     Leasehold   \n",
       "9996          4              3             3        1623      Freehold   \n",
       "9997          3              2             0         645      Freehold   \n",
       "9998          4              3             0        1290      Freehold   \n",
       "\n",
       "      price (RM)  \n",
       "9994      240000  \n",
       "9995      550000  \n",
       "9996      899000  \n",
       "9997      105000  \n",
       "9998      425000  "
      ]
     },
     "execution_count": 102,
     "metadata": {},
     "output_type": "execute_result"
    }
   ],
   "source": [
    "df.tail()"
   ]
  },
  {
   "cell_type": "code",
   "execution_count": 103,
   "id": "d5c2c656",
   "metadata": {},
   "outputs": [],
   "source": [
    "## df.to_csv(\"mudah_property_data.csv\")"
   ]
  },
  {
   "cell_type": "code",
   "execution_count": 104,
   "id": "456196e0",
   "metadata": {},
   "outputs": [
    {
     "data": {
      "text/plain": [
       "Condominium                  3477\n",
       "Apartment                    1500\n",
       "2-storey Terraced House      1170\n",
       "Semi-Detached House           922\n",
       "Bungalow House                434\n",
       "Shop lot                      399\n",
       "3-storey Terraced House       380\n",
       "1-storey Terraced House       377\n",
       "Terraced House                193\n",
       "Flat                          185\n",
       "Service Residence             158\n",
       "Warehouse / Factory           131\n",
       "Residential                   125\n",
       "2.5-storey Terraced House      92\n",
       "Others                         82\n",
       "Agricultural                   73\n",
       "Townhouse                      69\n",
       "Office space                   36\n",
       "Industrial                     34\n",
       "Commercial                     33\n",
       "Cluster House                  28\n",
       "Zero-Lot Bungalow              23\n",
       "3.5-storey Terraced House      15\n",
       "Mixed Development              15\n",
       "Hotel / Resort                 14\n",
       "Townhouse Condo                10\n",
       "Retail space                   10\n",
       "1.5-storey Terraced House       7\n",
       "Studio                          4\n",
       "Duplex                          2\n",
       "Link Bungalow                   1\n",
       "Name: sub_category_name, dtype: int64"
      ]
     },
     "execution_count": 104,
     "metadata": {},
     "output_type": "execute_result"
    }
   ],
   "source": [
    "df[\"sub_category_name\"].value_counts()"
   ]
  },
  {
   "cell_type": "code",
   "execution_count": 105,
   "id": "99d6e4ec",
   "metadata": {},
   "outputs": [
    {
     "data": {
      "text/plain": [
       "Freehold     8960\n",
       "Leasehold    1039\n",
       "Name: property_type, dtype: int64"
      ]
     },
     "execution_count": 105,
     "metadata": {},
     "output_type": "execute_result"
    }
   ],
   "source": [
    "df[\"property_type\"].value_counts()"
   ]
  },
  {
   "cell_type": "code",
   "execution_count": 110,
   "id": "23b286cf",
   "metadata": {},
   "outputs": [
    {
     "data": {
      "text/plain": [
       "Bayan Lepas       1007\n",
       "Gelugor            705\n",
       "Jelutong           657\n",
       "Sungai Ara         638\n",
       "Ayer Itam          637\n",
       "Bukit Mertajam     590\n",
       "Georgetown         586\n",
       "Tanjong Tokong     576\n",
       "Butterworth        538\n",
       "Tanjung Bungah     307\n",
       "Simpang Ampat      301\n",
       "Greenlane          279\n",
       "Bertam             226\n",
       "Balik Pulau        200\n",
       "Batu Kawan         198\n",
       "Alma               177\n",
       "Pulau Tikus        173\n",
       "Relau              170\n",
       "Bayan Baru         166\n",
       "Batu Ferringhi     142\n",
       "Batu Maung         127\n",
       "Batu Uban          120\n",
       "Teluk Kumbar       112\n",
       "Bukit Jambul       110\n",
       "Perai              109\n",
       "Kepala Batas       107\n",
       "Paya Terubong       93\n",
       "Nibong Tebal        91\n",
       "Seberang Jaya       85\n",
       "Sungai Nibong       69\n",
       "Name: subarea_name, dtype: int64"
      ]
     },
     "execution_count": 110,
     "metadata": {},
     "output_type": "execute_result"
    }
   ],
   "source": [
    "df[\"subarea_name\"].value_counts().head(30)"
   ]
  }
 ],
 "metadata": {
  "kernelspec": {
   "display_name": "Python 3 (ipykernel)",
   "language": "python",
   "name": "python3"
  },
  "language_info": {
   "codemirror_mode": {
    "name": "ipython",
    "version": 3
   },
   "file_extension": ".py",
   "mimetype": "text/x-python",
   "name": "python",
   "nbconvert_exporter": "python",
   "pygments_lexer": "ipython3",
   "version": "3.10.7"
  }
 },
 "nbformat": 4,
 "nbformat_minor": 5
}
